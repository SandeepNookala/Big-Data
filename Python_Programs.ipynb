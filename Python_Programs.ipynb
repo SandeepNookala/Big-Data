{
  "nbformat": 4,
  "nbformat_minor": 0,
  "metadata": {
    "colab": {
      "provenance": [],
      "collapsed_sections": [
        "2ccXRQpOQuoV",
        "pxn3N0Fv0d4L"
      ]
    },
    "kernelspec": {
      "name": "python3",
      "display_name": "Python 3"
    },
    "language_info": {
      "name": "python"
    }
  },
  "cells": [
    {
      "cell_type": "markdown",
      "source": [
        "# Installing pyspark"
      ],
      "metadata": {
        "id": "2ccXRQpOQuoV"
      }
    },
    {
      "cell_type": "code",
      "execution_count": null,
      "metadata": {
        "id": "PaqZ0hoczsyu",
        "colab": {
          "base_uri": "https://localhost:8080/"
        },
        "outputId": "ed3e6a50-1582-4dfc-e7a5-cdcb417896c9"
      },
      "outputs": [
        {
          "output_type": "stream",
          "name": "stdout",
          "text": [
            "Looking in indexes: https://pypi.org/simple, https://us-python.pkg.dev/colab-wheels/public/simple/\n",
            "Collecting pyspark\n",
            "  Downloading pyspark-3.3.2.tar.gz (281.4 MB)\n",
            "\u001b[2K     \u001b[90m━━━━━━━━━━━━━━━━━━━━━━━━━━━━━━━━━━━━━━━\u001b[0m \u001b[32m281.4/281.4 MB\u001b[0m \u001b[31m4.9 MB/s\u001b[0m eta \u001b[36m0:00:00\u001b[0m\n",
            "\u001b[?25h  Preparing metadata (setup.py) ... \u001b[?25l\u001b[?25hdone\n",
            "Requirement already satisfied: py4j in /usr/local/lib/python3.9/dist-packages (0.10.9.7)\n",
            "Collecting py4j\n",
            "  Downloading py4j-0.10.9.5-py2.py3-none-any.whl (199 kB)\n",
            "\u001b[2K     \u001b[90m━━━━━━━━━━━━━━━━━━━━━━━━━━━━━━━━━━━━━━\u001b[0m \u001b[32m199.7/199.7 KB\u001b[0m \u001b[31m22.2 MB/s\u001b[0m eta \u001b[36m0:00:00\u001b[0m\n",
            "\u001b[?25hBuilding wheels for collected packages: pyspark\n",
            "  Building wheel for pyspark (setup.py) ... \u001b[?25l\u001b[?25hdone\n",
            "  Created wheel for pyspark: filename=pyspark-3.3.2-py2.py3-none-any.whl size=281824028 sha256=be32dd0bf88f04470cad3201fdbd1b8a6d3b5117fc8a971d22779e2849a49385\n",
            "  Stored in directory: /root/.cache/pip/wheels/6c/e3/9b/0525ce8a69478916513509d43693511463c6468db0de237c86\n",
            "Successfully built pyspark\n",
            "Installing collected packages: py4j, pyspark\n",
            "  Attempting uninstall: py4j\n",
            "    Found existing installation: py4j 0.10.9.7\n",
            "    Uninstalling py4j-0.10.9.7:\n",
            "      Successfully uninstalled py4j-0.10.9.7\n",
            "Successfully installed py4j-0.10.9.5 pyspark-3.3.2\n"
          ]
        }
      ],
      "source": [
        "!pip install pyspark py4j"
      ]
    },
    {
      "cell_type": "markdown",
      "source": [
        "# Program to print numbers in a sequence"
      ],
      "metadata": {
        "id": "GmzNITAk6fF5"
      }
    },
    {
      "cell_type": "code",
      "source": [
        "# from 0 to n in sequence\n",
        "\n",
        "n = int(input('Enter number'))\n",
        "\n",
        "for i in range(n+1):\n",
        "  print(i)"
      ],
      "metadata": {
        "colab": {
          "base_uri": "https://localhost:8080/"
        },
        "id": "OGbFwQQd6mmo",
        "outputId": "a4ece39b-14ee-4f0d-c169-2180726e7854"
      },
      "execution_count": 26,
      "outputs": [
        {
          "output_type": "stream",
          "name": "stdout",
          "text": [
            "Enter number10\n",
            "0\n",
            "1\n",
            "2\n",
            "3\n",
            "4\n",
            "5\n",
            "6\n",
            "7\n",
            "8\n",
            "9\n",
            "10\n"
          ]
        }
      ]
    },
    {
      "cell_type": "code",
      "source": [
        "# from o to n even numbers and odd numbers\n",
        "\n",
        "n = int(input(\"Enter any number\"))\n",
        "\n",
        "for i in range(n+1):\n",
        "  if i%2 == 0:\n",
        "    print('Even Numbers are:',i)\n",
        "  else:\n",
        "    print('odd Numbers are:',i)\n",
        "\n"
      ],
      "metadata": {
        "colab": {
          "base_uri": "https://localhost:8080/"
        },
        "id": "96bJ-AM_7Gap",
        "outputId": "c43ba06f-bede-45d4-bc0d-e1e1e9621ec5"
      },
      "execution_count": 34,
      "outputs": [
        {
          "output_type": "stream",
          "name": "stdout",
          "text": [
            "Enter any number11\n",
            "Even Numbers are: 0\n",
            "odd Numbers are: 1\n",
            "Even Numbers are: 2\n",
            "odd Numbers are: 3\n",
            "Even Numbers are: 4\n",
            "odd Numbers are: 5\n",
            "Even Numbers are: 6\n",
            "odd Numbers are: 7\n",
            "Even Numbers are: 8\n",
            "odd Numbers are: 9\n",
            "Even Numbers are: 10\n",
            "odd Numbers are: 11\n"
          ]
        }
      ]
    },
    {
      "cell_type": "code",
      "source": [
        "# from o to n even numbers and odd numbers\n",
        "\n",
        "n = int(input(\"Enter any number\"))"
      ],
      "metadata": {
        "id": "LikPGEZG-joz"
      },
      "execution_count": null,
      "outputs": []
    },
    {
      "cell_type": "markdown",
      "source": [
        "# program to print the sum of first n numbers?"
      ],
      "metadata": {
        "id": "pxn3N0Fv0d4L"
      }
    },
    {
      "cell_type": "code",
      "source": [
        "#for loop\n",
        "\n",
        "n = int(input('Enter number:'))\n",
        "\n",
        "sum =0\n",
        "\n",
        "for i in range(n+1):\n",
        "  sum = sum+i\n",
        "\n",
        "print(sum)"
      ],
      "metadata": {
        "colab": {
          "base_uri": "https://localhost:8080/"
        },
        "id": "uPVdtcxu0deB",
        "outputId": "bef7d9de-0586-4273-e0ad-3f02bb3d8f62"
      },
      "execution_count": 20,
      "outputs": [
        {
          "output_type": "stream",
          "name": "stdout",
          "text": [
            "Enter number:10\n",
            "55\n"
          ]
        }
      ]
    },
    {
      "cell_type": "code",
      "source": [
        "# while loop\n",
        "\n",
        "n = int(input('Enter number:'))\n",
        "\n",
        "sum =0\n",
        "i=1\n",
        "while i <n+1:\n",
        "  sum= sum+i\n",
        "  i=i+1\n",
        "print('Sum value is:',sum)"
      ],
      "metadata": {
        "colab": {
          "base_uri": "https://localhost:8080/"
        },
        "id": "oXhuQXFOwoL1",
        "outputId": "77255602-0848-4f9d-eae9-18bf9664f15a"
      },
      "execution_count": 19,
      "outputs": [
        {
          "output_type": "stream",
          "name": "stdout",
          "text": [
            "Enter number:10\n",
            "Sum value is: 55\n"
          ]
        }
      ]
    },
    {
      "cell_type": "markdown",
      "source": [
        "# Program to print all numbers in a given range that are divisable by given number"
      ],
      "metadata": {
        "id": "AjsVhKHc3e0w"
      }
    },
    {
      "cell_type": "code",
      "source": [
        "\n",
        "lower = int(input('Enter lower num:'))\n",
        "\n",
        "upper = int(input('Enter upper num:'))\n",
        "\n",
        "n = int(input('Divisable num:'))\n",
        "\n",
        "num = [i for i in range (lower,upper+1) if i % n == 0]\n",
        "\n",
        "print(num)\n",
        "\n"
      ],
      "metadata": {
        "colab": {
          "base_uri": "https://localhost:8080/"
        },
        "id": "R2UrzZqw2Waa",
        "outputId": "be0f8121-7fab-4067-9dbb-63292ed8b89a"
      },
      "execution_count": 25,
      "outputs": [
        {
          "output_type": "stream",
          "name": "stdout",
          "text": [
            "Enter lower num:100\n",
            "Enter upper num:500\n",
            "Divisable num:5\n",
            "[100, 105, 110, 115, 120, 125, 130, 135, 140, 145, 150, 155, 160, 165, 170, 175, 180, 185, 190, 195, 200, 205, 210, 215, 220, 225, 230, 235, 240, 245, 250, 255, 260, 265, 270, 275, 280, 285, 290, 295, 300, 305, 310, 315, 320, 325, 330, 335, 340, 345, 350, 355, 360, 365, 370, 375, 380, 385, 390, 395, 400, 405, 410, 415, 420, 425, 430, 435, 440, 445, 450, 455, 460, 465, 470, 475, 480, 485, 490, 495, 500]\n"
          ]
        }
      ]
    },
    {
      "cell_type": "markdown",
      "source": [
        "#  Program to print longest string in given sentence with its length?"
      ],
      "metadata": {
        "id": "rwDMQgb6UK79"
      }
    },
    {
      "cell_type": "code",
      "source": [
        "se = input('Enter sentance:')\n",
        "\n",
        "words = se.split()\n",
        "\n",
        "long_word_length = len(words[0])\n",
        "\n",
        "for i in words:\n",
        "  words_length = len(i)\n",
        "  if word_length>long_word_length:\n",
        "    long_word_length = words_length\n",
        "    word =i\n",
        "\n",
        "print('word is:',word)\n",
        "print('word length is :',long_word_length)  \n"
      ],
      "metadata": {
        "colab": {
          "base_uri": "https://localhost:8080/"
        },
        "id": "3raCCkcLRFPN",
        "outputId": "1a9ce554-1ac7-4321-fb10-5c67d17b22a8"
      },
      "execution_count": 38,
      "outputs": [
        {
          "output_type": "stream",
          "name": "stdout",
          "text": [
            "Enter sentance:hello sandeep how are you\n",
            "word is: sandeep\n",
            "word length is : 5\n"
          ]
        }
      ]
    },
    {
      "cell_type": "markdown",
      "source": [
        "# program to print total number of digits in given positive interger"
      ],
      "metadata": {
        "id": "fABTEWJmW5RM"
      }
    },
    {
      "cell_type": "code",
      "source": [
        "\n",
        "n = int(input('Enter value:'))\n",
        "\n",
        "total = 0\n",
        "\n",
        "while n>0:\n",
        "  n = n//10\n",
        "  total = total+1\n",
        "\n",
        "print('total number of digits',total)"
      ],
      "metadata": {
        "colab": {
          "base_uri": "https://localhost:8080/"
        },
        "id": "KT8Zf8h1W4yl",
        "outputId": "776e2808-170d-48dd-e36d-8bac660c5627"
      },
      "execution_count": 39,
      "outputs": [
        {
          "output_type": "stream",
          "name": "stdout",
          "text": [
            "Enter value:123456789\n",
            "total number of digits 9\n"
          ]
        }
      ]
    },
    {
      "cell_type": "code",
      "source": [],
      "metadata": {
        "id": "6oi-p-BZTmu7"
      },
      "execution_count": null,
      "outputs": []
    }
  ]
}